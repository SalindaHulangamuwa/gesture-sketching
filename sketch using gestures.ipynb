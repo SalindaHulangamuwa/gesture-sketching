{
 "cells": [
  {
   "cell_type": "code",
   "execution_count": 1,
   "id": "88f84a1b",
   "metadata": {},
   "outputs": [
    {
     "name": "stdout",
     "output_type": "stream",
     "text": [
      "WARNING:tensorflow:From D:\\python3\\Lib\\site-packages\\keras\\src\\losses.py:2976: The name tf.losses.sparse_softmax_cross_entropy is deprecated. Please use tf.compat.v1.losses.sparse_softmax_cross_entropy instead.\n",
      "\n"
     ]
    },
    {
     "name": "stderr",
     "output_type": "stream",
     "text": [
      "D:\\python3\\Lib\\site-packages\\google\\protobuf\\symbol_database.py:55: UserWarning: SymbolDatabase.GetPrototype() is deprecated. Please use message_factory.GetMessageClass() instead. SymbolDatabase.GetPrototype() will be removed soon.\n",
      "  warnings.warn('SymbolDatabase.GetPrototype() is deprecated. Please '\n"
     ]
    }
   ],
   "source": [
    "import cv2\n",
    "import numpy as np\n",
    "import mediapipe as mp\n",
    "\n",
    "# Initialize MediaPipe Hands\n",
    "mp_hands = mp.solutions.hands\n",
    "hands = mp_hands.Hands(max_num_hands=1)\n",
    "mp_draw = mp.solutions.drawing_utils\n",
    "\n",
    "# Initialize the camera\n",
    "cap = cv2.VideoCapture(0)\n",
    "canvas = np.zeros((480, 640, 3), dtype=np.uint8)\n",
    "\n",
    "prev_x, prev_y = None, None\n",
    "start_x = None\n",
    "erasing_gesture_active = False\n",
    "\n",
    "def count_fingers(hand_landmarks):\n",
    "    fingers = []\n",
    "    thumb_tip = hand_landmarks.landmark[mp_hands.HandLandmark.THUMB_TIP].x\n",
    "    thumb_ip = hand_landmarks.landmark[mp_hands.HandLandmark.THUMB_IP].x\n",
    "\n",
    "    # Thumb\n",
    "    if thumb_tip < thumb_ip:\n",
    "        fingers.append(1)\n",
    "    else:\n",
    "        fingers.append(0)\n",
    "\n",
    "    # Other four fingers\n",
    "    for id in [mp_hands.HandLandmark.INDEX_FINGER_TIP, mp_hands.HandLandmark.MIDDLE_FINGER_TIP,\n",
    "               mp_hands.HandLandmark.RING_FINGER_TIP, mp_hands.HandLandmark.PINKY_TIP]:\n",
    "        finger_tip = hand_landmarks.landmark[id].y\n",
    "        finger_dip = hand_landmarks.landmark[id - 2].y\n",
    "        if finger_tip < finger_dip:\n",
    "            fingers.append(1)\n",
    "        else:\n",
    "            fingers.append(0)\n",
    "\n",
    "    return fingers.count(1)\n",
    "\n",
    "while True:\n",
    "    ret, frame = cap.read()\n",
    "    frame = cv2.flip(frame, 1)\n",
    "    rgb_frame = cv2.cvtColor(frame, cv2.COLOR_BGR2RGB)\n",
    "    result = hands.process(rgb_frame)\n",
    "\n",
    "    if result.multi_hand_landmarks:\n",
    "        for hand_landmarks in result.multi_hand_landmarks:\n",
    "            mp_draw.draw_landmarks(frame, hand_landmarks, mp_hands.HAND_CONNECTIONS)\n",
    "\n",
    "            index_finger_tip = hand_landmarks.landmark[mp_hands.HandLandmark.INDEX_FINGER_TIP]\n",
    "            h, w, _ = frame.shape\n",
    "            cx, cy = int(index_finger_tip.x * w), int(index_finger_tip.y * h)\n",
    "\n",
    "            # Check the number of extended fingers\n",
    "            fingers_count = count_fingers(hand_landmarks)\n",
    "\n",
    "            if fingers_count == 5:\n",
    "                if start_x is None:\n",
    "                    start_x = cx\n",
    "                    erasing_gesture_active = True\n",
    "                elif erasing_gesture_active and cx < start_x - 100:\n",
    "                    canvas = np.zeros((480, 640, 3), dtype=np.uint8)\n",
    "                    start_x = None\n",
    "                    erasing_gesture_active = False\n",
    "            else:\n",
    "                start_x = None\n",
    "                erasing_gesture_active = False\n",
    "\n",
    "            if not erasing_gesture_active and fingers_count == 1:\n",
    "                # Check if the index finger is up (using a threshold)\n",
    "                if hand_landmarks.landmark[mp_hands.HandLandmark.INDEX_FINGER_DIP].y < hand_landmarks.landmark[mp_hands.HandLandmark.INDEX_FINGER_PIP].y:\n",
    "                    if prev_x is not None and prev_y is not None:\n",
    "                        cv2.line(canvas, (prev_x, prev_y), (cx, cy), (0, 255, 0), 4)\n",
    "                    prev_x, prev_y = cx, cy\n",
    "                else:\n",
    "                    prev_x, prev_y = None, None\n",
    "            else:\n",
    "                prev_x, prev_y = None, None\n",
    "\n",
    "    frame = cv2.add(frame, canvas)\n",
    "    cv2.imshow(\"Hand Drawing\", frame)\n",
    "\n",
    "    if cv2.waitKey(1) & 0xFF == ord('q'):\n",
    "        break\n",
    "\n",
    "cap.release()\n",
    "cv2.destroyAllWindows()\n"
   ]
  },
  {
   "cell_type": "code",
   "execution_count": null,
   "id": "a44acedc",
   "metadata": {},
   "outputs": [],
   "source": []
  }
 ],
 "metadata": {
  "kernelspec": {
   "display_name": "Python 3 (ipykernel)",
   "language": "python",
   "name": "python3"
  },
  "language_info": {
   "codemirror_mode": {
    "name": "ipython",
    "version": 3
   },
   "file_extension": ".py",
   "mimetype": "text/x-python",
   "name": "python",
   "nbconvert_exporter": "python",
   "pygments_lexer": "ipython3",
   "version": "3.11.5"
  }
 },
 "nbformat": 4,
 "nbformat_minor": 5
}
